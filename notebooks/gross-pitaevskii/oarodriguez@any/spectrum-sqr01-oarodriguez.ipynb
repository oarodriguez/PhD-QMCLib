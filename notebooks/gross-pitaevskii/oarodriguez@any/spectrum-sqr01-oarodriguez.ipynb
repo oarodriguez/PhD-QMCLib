{
 "cells": [
  {
   "cell_type": "markdown",
   "metadata": {},
   "source": [
    "# Density profiles"
   ]
  },
  {
   "cell_type": "code",
   "execution_count": 1,
   "metadata": {},
   "outputs": [
    {
     "name": "stdout",
     "output_type": "stream",
     "text": [
      "Populating the interactive namespace from numpy and matplotlib\n"
     ]
    }
   ],
   "source": [
    "%pylab inline"
   ]
  },
  {
   "cell_type": "code",
   "execution_count": 2,
   "metadata": {},
   "outputs": [],
   "source": [
    "from multirods_gpe.style import set_base_style\n",
    "from multirods_gpe import MultiRods\n",
    "from multirods_gpe.bloch import ideal_eigen_states, GPEBlochState, GPEStateSet\n",
    "from multirods_gpe.spectrum import IdealSpectrum, GPESpectrum, GPEBlochStateType\n",
    "from multirods_gpe.model import ER"
   ]
  },
  {
   "cell_type": "code",
   "execution_count": 3,
   "metadata": {},
   "outputs": [],
   "source": [
    "from itertools import cycle, islice\n",
    "from matplotlib.ticker import MultipleLocator, FormatStrFormatter"
   ]
  },
  {
   "cell_type": "markdown",
   "metadata": {},
   "source": [
    "## EDIT: Paths and non-standard imports >>>"
   ]
  },
  {
   "cell_type": "code",
   "execution_count": 4,
   "metadata": {},
   "outputs": [],
   "source": [
    "import os, sys\n",
    "proj_dir = os.path.abspath(os.path.join(os.getcwd(), os.pardir, os.pardir))\n",
    "sys.path.insert(0, proj_dir)"
   ]
  },
  {
   "cell_type": "markdown",
   "metadata": {},
   "source": [
    "### <<< End of paths and non-standard import\n",
    "----"
   ]
  },
  {
   "cell_type": "markdown",
   "metadata": {},
   "source": [
    "## Square lattice, $b = a$"
   ]
  },
  {
   "cell_type": "code",
   "execution_count": 5,
   "metadata": {},
   "outputs": [],
   "source": [
    "v0, r = 1 * ER, 1\n",
    "\n",
    "systems = []\n",
    "for gn0 in array([0.25]) * ER:\n",
    "    system = MultiRods(v0, r, gn0)\n",
    "    system.context.partition_order = 8\n",
    "    systems.append(system)"
   ]
  },
  {
   "cell_type": "markdown",
   "metadata": {},
   "source": [
    "### Calculating density."
   ]
  },
  {
   "cell_type": "code",
   "execution_count": 6,
   "metadata": {},
   "outputs": [],
   "source": [
    "from scipy.integrate import trapz"
   ]
  },
  {
   "cell_type": "code",
   "execution_count": 7,
   "metadata": {},
   "outputs": [
    {
     "name": "stderr",
     "output_type": "stream",
     "text": [
      "C:\\Users\\oarodriguez\\Academic Projects\\MultiRodsGPE\\multirods_gpe\\bloch.py:325: ComplexWarning: Casting complex values to real discards the imaginary part\n",
      "  funcs_mesh = p_fn_mesh.astype(np.float64), q_fn_mesh\n",
      "Test: 100% |🦀🦀🦀🦀🦀🦀🦀🦀🦀🦀🦀🦀🦀🦀🦀🦀🦀🦀🦀🦀🦀🦀🦀🦀🦀🦀🦀🦀🦀🦀🦀🦀🦀🦀🦀🦀🦀🦀🦀🦀🦀🦀🦀🦀🦀🦀🦀🦀🦀🦀🦀🦀🦀🦀🦀🦀🦀🦀🦀🦀🦀🦀🦀🦀🦀🦀🦀🦀🦀🦀🦀🦀🦀🦀🦀🦀🦀🦀🦀🦀🦀🦀🦀🦀🦀🦀🦀🦀🦀🦀🦀🦀🦀🦀🦀🦀🦀🦀🦀🦀🦀🦀🦀🦀🦀🦀🦀🦀🦀🦀🦀🦀🦀🦀🦀🦀🦀🦀🦀🦀🦀🦀🦀🦀🦀| Time: 0:00:16\n",
      "Test: 100% |🦀🦀🦀🦀🦀🦀🦀🦀🦀🦀🦀🦀🦀🦀🦀🦀🦀🦀🦀🦀🦀🦀🦀🦀🦀🦀🦀🦀🦀🦀🦀🦀🦀🦀🦀🦀🦀🦀🦀🦀🦀🦀🦀🦀🦀🦀🦀🦀🦀🦀🦀🦀🦀🦀🦀🦀🦀🦀🦀🦀🦀🦀🦀🦀🦀🦀🦀🦀🦀🦀🦀🦀🦀🦀🦀🦀🦀🦀🦀🦀🦀🦀🦀🦀🦀🦀🦀🦀🦀🦀🦀🦀🦀🦀🦀🦀🦀🦀🦀🦀🦀🦀🦀🦀🦀🦀🦀🦀🦀🦀🦀🦀🦀🦀🦀🦀🦀🦀🦀🦀🦀🦀🦀🦀🦀| Time: 0:00:00\n",
      "Test: 100% |🦀🦀🦀🦀🦀🦀🦀🦀🦀🦀🦀🦀🦀🦀🦀🦀🦀🦀🦀🦀🦀🦀🦀🦀🦀🦀🦀🦀🦀🦀🦀🦀🦀🦀🦀🦀🦀🦀🦀🦀🦀🦀🦀🦀🦀🦀🦀🦀🦀🦀🦀🦀🦀🦀🦀🦀🦀🦀🦀🦀🦀🦀🦀🦀🦀🦀🦀🦀🦀🦀🦀🦀🦀🦀🦀🦀🦀🦀🦀🦀🦀🦀🦀🦀🦀🦀🦀🦀🦀🦀🦀🦀🦀🦀🦀🦀🦀🦀🦀🦀🦀🦀🦀🦀🦀🦀🦀🦀🦀🦀🦀🦀🦀🦀🦀🦀🦀🦀🦀🦀🦀🦀🦀🦀🦀| Time: 0:00:21\n",
      "C:\\Users\\oarodriguez\\Academic Projects\\MultiRodsGPE\\multirods_gpe\\bloch.py:325: ComplexWarning: Casting complex values to real discards the imaginary part\n",
      "  funcs_mesh = p_fn_mesh.astype(np.float64), q_fn_mesh\n",
      "Test: 100% |🦀🦀🦀🦀🦀🦀🦀🦀🦀🦀🦀🦀🦀🦀🦀🦀🦀🦀🦀🦀🦀🦀🦀🦀🦀🦀🦀🦀🦀🦀🦀🦀🦀🦀🦀🦀🦀🦀🦀🦀🦀🦀🦀🦀🦀🦀🦀🦀🦀🦀🦀🦀🦀🦀🦀🦀🦀🦀🦀🦀🦀🦀🦀🦀🦀🦀🦀🦀🦀🦀🦀🦀🦀🦀🦀🦀🦀🦀🦀🦀🦀🦀🦀🦀🦀🦀🦀🦀🦀🦀🦀🦀🦀🦀🦀🦀🦀🦀🦀🦀🦀🦀🦀🦀🦀🦀🦀🦀🦀🦀🦀🦀🦀🦀🦀🦀🦀🦀🦀🦀🦀🦀🦀🦀🦀| Time: 0:00:02\n",
      "Test: 100% |🦀🦀🦀🦀🦀🦀🦀🦀🦀🦀🦀🦀🦀🦀🦀🦀🦀🦀🦀🦀🦀🦀🦀🦀🦀🦀🦀🦀🦀🦀🦀🦀🦀🦀🦀🦀🦀🦀🦀🦀🦀🦀🦀🦀🦀🦀🦀🦀🦀🦀🦀🦀🦀🦀🦀🦀🦀🦀🦀🦀🦀🦀🦀🦀🦀🦀🦀🦀🦀🦀🦀🦀🦀🦀🦀🦀🦀🦀🦀🦀🦀🦀🦀🦀🦀🦀🦀🦀🦀🦀🦀🦀🦀🦀🦀🦀🦀🦀🦀🦀🦀🦀🦀🦀🦀🦀🦀🦀🦀🦀🦀🦀🦀🦀🦀🦀🦀🦀🦀🦀🦀🦀🦀🦀🦀| Time: 0:00:24\n",
      "Test: 100% |🦀🦀🦀🦀🦀🦀🦀🦀🦀🦀🦀🦀🦀🦀🦀🦀🦀🦀🦀🦀🦀🦀🦀🦀🦀🦀🦀🦀🦀🦀🦀🦀🦀🦀🦀🦀🦀🦀🦀🦀🦀🦀🦀🦀🦀🦀🦀🦀🦀🦀🦀🦀🦀🦀🦀🦀🦀🦀🦀🦀🦀🦀🦀🦀🦀🦀🦀🦀🦀🦀🦀🦀🦀🦀🦀🦀🦀🦀🦀🦀🦀🦀🦀🦀🦀🦀🦀🦀🦀🦀🦀🦀🦀🦀🦀🦀🦀🦀🦀🦀🦀🦀🦀🦀🦀🦀🦀🦀🦀🦀🦀🦀🦀🦀🦀🦀🦀🦀🦀🦀🦀🦀🦀🦀🦀| Time: 0:00:01\n"
     ]
    }
   ],
   "source": [
    "max_bands = 20\n",
    "number_of_states = 2 ** 5\n",
    "bloch_bands = [1, 2, 3]\n",
    "\n",
    "initial_state = None\n",
    "states_data = []\n",
    "for ctr, system in enumerate(systems):\n",
    "    \n",
    "#     r = float(system.lattice_ratio)\n",
    "    gn0 = system.interaction_strength\n",
    "    \n",
    "    spec = GPESpectrum(system, bloch_bands=bloch_bands,\n",
    "                       states_per_zone=number_of_states)\n",
    "    for bloch_band in bloch_bands:\n",
    "        scan_band = spec.scan_band(bloch_band, GPEBlochStateType.NORMAL)\n",
    "        normal_states = GPEStateSet(scan_band)\n",
    "        \n",
    "        scan_band = spec.scan_band(bloch_band, GPEBlochStateType.SADDLE)\n",
    "        saddle_states = GPEStateSet(scan_band)\n",
    "\n",
    "        states_data.append([spec, normal_states, saddle_states])\n",
    "        \n",
    "ideal_spec = IdealSpectrum(system, number_of_states, max_bands=max_bands)"
   ]
  },
  {
   "cell_type": "code",
   "execution_count": 8,
   "metadata": {},
   "outputs": [],
   "source": [
    "DASHES = [\n",
    "    (5, 0.01),                  # \"Solid\"\n",
    "    (5, 5/4),                   # Dash small-space\n",
    "    (5, 5/4, 5/4, 5/4),         # Dash-dot\n",
    "    (5/4, 5/4),                 #  Dot\n",
    "    (5, 5/4, 5/2, 5/4, 5/2, 5/4),         # Dash, small-dash\n",
    "    (2, 1, 1, 1),    # Dot-dash\n",
    "    (4, 1, 1, 1),   # Long dash - dot\n",
    "    (4, 1, 2, 1),   # Long dash - dot\n",
    "    (6, 1)\n",
    "]\n"
   ]
  },
  {
   "cell_type": "code",
   "execution_count": 9,
   "metadata": {},
   "outputs": [],
   "source": [
    "def make_plot_label(v0_er, r, gn0_er):\n",
    "    \"\"\"\"\"\"\n",
    "    v0_lbl = r'$V_0 = E_R$' if v0_er == 1 else r'$V_0 = {:.5G}E_R$'.format(v0_er) \n",
    "    r_lbl =  r'$b = a$' if r == 1 else r'b = ${:.5G}a$'.format(r)\n",
    "    gn0_lbl = r'$gn_0 = E_R$' if gn0_er == 1 else r'$gn_0 = {:.5G}E_R$'.format(gn0_er)\n",
    "    lbl = v0_lbl + '\\n' + r_lbl + '\\n' + gn0_lbl\n",
    "    \n",
    "    return lbl"
   ]
  },
  {
   "cell_type": "code",
   "execution_count": 10,
   "metadata": {},
   "outputs": [
    {
     "name": "stdout",
     "output_type": "stream",
     "text": [
      "C:\\Users\\oarodriguez\\Academic Projects\\PhDCode\\reports\\figures\\ekz[int]_v0-1_r-1_gn0-0-dot-25.pdf\n"
     ]
    },
    {
     "data": {
      "image/png": "[encoded data removed]",
      "text/plain": [
       "<matplotlib.figure.Figure at 0x210f3d9c320>"
      ]
     },
     "metadata": {},
     "output_type": "display_data"
    }
   ],
   "source": [
    "# Physical parameters\n",
    "macro_kz = 0\n",
    "bloch_band = 1\n",
    "\n",
    "# %% Figure base style\n",
    "set_base_style()\n",
    "\n",
    "figure(figsize=(2, 4))\n",
    "\n",
    "ax = gca()\n",
    "\n",
    "rcParams['legend.fontsize'] = 8\n",
    "\n",
    "dashes = cycle(DASHES)\n",
    "\n",
    "# Switches\n",
    "subplot_left = True\n",
    "if subplot_left:\n",
    "    add_legend = False\n",
    "else:\n",
    "    add_legend = True\n",
    "\n",
    " # Some dimensions\n",
    "y_min = 0\n",
    "y_max = 10\n",
    "\n",
    "skip_ideal = False\n",
    "lc = None\n",
    "gn0 = None\n",
    "\n",
    "lc_ideal = None\n",
    "for ctr, data in enumerate(states_data):\n",
    "    \n",
    "    spec, normal_states, saddle_states = data\n",
    "    system = spec.system\n",
    "    r = float(system.lattice_ratio)\n",
    "    gn0 = system.interaction_strength\n",
    "    \n",
    "    dash = next(dashes)\n",
    "    if system.interaction_strength:\n",
    "#         phi_k = absolute(state.wave_fn) ** 2\n",
    "        plb = r'${:5G}$'.format(gn0 / ER)\n",
    "    else:\n",
    "#         phi_k = absolute(state.wave_fn) ** 2\n",
    "        plb = None\n",
    "\n",
    "    z = system.domain_mesh\n",
    "    vz_unit = system.potential(z) / v0\n",
    "    za = 1 / (1 + r) / 2\n",
    "    \n",
    "    \n",
    "    for state_set in spec.extend_state_set(normal_states, extend_to_zone=2):\n",
    "\n",
    "        kz = state_set.momentum\n",
    "        energy = state_set.energy\n",
    "\n",
    "        line, = ax.plot(kz / pi, energy / ER, color=lc)\n",
    "        lc = line.get_color()\n",
    "        \n",
    "    for state_set in spec.extend_state_set(saddle_states, extend_to_zone=2):\n",
    "\n",
    "        kz = state_set.momentum\n",
    "        energy = state_set.energy\n",
    "\n",
    "        line, = ax.plot(kz / pi, energy / ER, color=lc)\n",
    "        lc = line.get_color()\n",
    "#         line, = ax.plot(kz / pi, energy)\n",
    "\n",
    "    ideal_band = ideal_spec.get(ctr + 1)\n",
    "    kz = ideal_band.momentum\n",
    "    energy = ideal_band.energy\n",
    "    line_ideal, = ax.plot(kz / pi, energy / ER, color=lc_ideal, dashes=(5, 2))\n",
    "    lc_ideal = line_ideal.get_color()\n",
    "\n",
    "# print(gn0 / ER)\n",
    "plt_lb = make_plot_label(v0 / ER, r, gn0 / ER)\n",
    "ax.text(-0.44, 0.80 * y_max, plt_lb, fontsize=11)\n",
    "\n",
    "add_legend = False\n",
    "if add_legend:\n",
    "    legend_ = ax.legend(bbox_to_anchor=(0.59, 0.715), loc='best')\n",
    "    leg_title = legend_.get_title()\n",
    "    legend_.set_title(r'$gn_0 / E_R$', prop=dict(size=9))\n",
    "    leg_frame = legend_.get_frame()\n",
    "    setp(leg_frame, fc='#FFFFFF', alpha=0.5)\n",
    "    \n",
    "\n",
    "y_loc = MultipleLocator(2.5)\n",
    "y_fmt = FormatStrFormatter('%d')\n",
    "y_min_loc = MultipleLocator(1.25)\n",
    "\n",
    "ax.yaxis.set_major_locator(y_loc)\n",
    "ax.yaxis.set_major_formatter(y_fmt)\n",
    "ax.yaxis.set_minor_locator(y_min_loc)\n",
    "\n",
    "ax.set_xlabel(r'$k / k_\\mathrm{OPT}$')\n",
    "ax.set_ylabel(r'$\\varepsilon_k / E_R$')\n",
    "\n",
    "ax.set_xlim(-1, 1)\n",
    "ax.set_ylim(y_min, y_max)\n",
    "\n",
    "# Some manual labelling\n",
    "# ax.set_xticks([-0.5, 0, .5])\n",
    "# ax.set_xticklabels([-.5, '0', .5])\n",
    "\n",
    "fn_fmt = r'ekz[int]_v0-{:.5G}_r-{:.5G}_gn0-{:.5G}'\n",
    "file_name = fn_fmt.format(v0 / ER, r, gn0 / ER)\n",
    "\n",
    "full_path = os.path.join(proj_dir,\n",
    "                         'reports', 'figures',\n",
    "                         '{:s}.pdf'.format(file_name.replace('.', '-dot-')))\n",
    "\n",
    "fn_fmt = r'ekz[int]_v0-{:.5G}_r-{:.5G}_gn0-{:.5G}'\n",
    "file_name = fn_fmt.format(v0 / ER, r, gn0 / ER)\n",
    "\n",
    "full_path = os.path.join(proj_dir,\n",
    "                         'reports', 'figures',\n",
    "                         '{:s}.pdf'.format(file_name.replace('.', '-dot-')))\n",
    "\n",
    "# savefig(full_path)\n",
    "\n",
    "print(full_path)"
   ]
  },
  {
   "cell_type": "code",
   "execution_count": null,
   "metadata": {},
   "outputs": [],
   "source": []
  }
 ],
 "metadata": {
  "kernelspec": {
   "display_name": "Python 3.6 [python36test]",
   "language": "python",
   "name": "python36test"
  },
  "language_info": {
   "codemirror_mode": {
    "name": "ipython",
    "version": 3
   },
   "file_extension": ".py",
   "mimetype": "text/x-python",
   "name": "python",
   "nbconvert_exporter": "python",
   "pygments_lexer": "ipython3",
   "version": "3.6.3"
  }
 },
 "nbformat": 4,
 "nbformat_minor": 2
}

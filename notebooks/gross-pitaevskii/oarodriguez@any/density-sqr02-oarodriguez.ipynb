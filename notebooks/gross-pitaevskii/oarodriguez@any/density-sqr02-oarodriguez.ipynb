{
 "cells": [
  {
   "cell_type": "markdown",
   "metadata": {},
   "source": [
    "# Density profiles for different energy bands"
   ]
  },
  {
   "cell_type": "code",
   "execution_count": 2,
   "metadata": {},
   "outputs": [
    {
     "name": "stdout",
     "output_type": "stream",
     "text": [
      "Populating the interactive namespace from numpy and matplotlib\n"
     ]
    }
   ],
   "source": [
    "%pylab inline"
   ]
  },
  {
   "cell_type": "code",
   "execution_count": 2,
   "metadata": {},
   "outputs": [],
   "source": [
    "from multirods_gpe.style import set_base_style\n",
    "from multirods_gpe import MultiRods\n",
    "from multirods_gpe.bloch import ideal_eigen_states, GPEBlochState, GPEStateSet\n",
    "from multirods_gpe.spectrum import IdealSpectrum, GPESpectrum, GPEBlochStateType\n",
    "from multirods_gpe.model import ER"
   ]
  },
  {
   "cell_type": "code",
   "execution_count": 4,
   "metadata": {},
   "outputs": [],
   "source": [
    "from itertools import cycle, islice\n",
    "from matplotlib.ticker import MultipleLocator, FormatStrFormatter"
   ]
  },
  {
   "cell_type": "markdown",
   "metadata": {},
   "source": [
    "## EDIT: Paths and non-standard imports >>>"
   ]
  },
  {
   "cell_type": "code",
   "execution_count": 5,
   "metadata": {},
   "outputs": [],
   "source": [
    "import os, sys\n",
    "proj_dir = os.path.abspath(os.path.join(os.getcwd(), os.pardir, os.pardir))\n",
    "sys.path.insert(0, proj_dir)"
   ]
  },
  {
   "cell_type": "markdown",
   "metadata": {},
   "source": [
    "### <<< End of paths and non-standard import\n",
    "----"
   ]
  },
  {
   "cell_type": "markdown",
   "metadata": {},
   "source": [
    "## Square lattice, $b = a$"
   ]
  },
  {
   "cell_type": "code",
   "execution_count": null,
   "metadata": {},
   "outputs": [],
   "source": [
    "v0, r, gn0 = 1 * ER, 1, 8 * ER\n",
    "\n",
    "systems = []\n",
    "# gn0_array = array([0, 1, 5, 10]) * ER\n",
    "# kz_array = array([0, pi/2, 1, 2, 3]) * v0\n",
    "system = MultiRods(v0, r, gn0)\n",
    "system.context.partition_order = 8\n",
    "systems.append(system)"
   ]
  },
  {
   "cell_type": "markdown",
   "metadata": {},
   "source": [
    "## Calculating density."
   ]
  },
  {
   "cell_type": "markdown",
   "metadata": {},
   "source": [
    "### Explore first and second energy band"
   ]
  },
  {
   "cell_type": "code",
   "execution_count": null,
   "metadata": {},
   "outputs": [
    {
     "name": "stderr",
     "output_type": "stream",
     "text": [
      "Progress: N/A% - State momentum: 0.000 k_OPT -  |              | ETA:  --:--:--C:\\Users\\oarodriguez\\Academic Projects\\MultiRodsGPE\\multirods_gpe\\bloch.py:325: ComplexWarning: Casting complex values to real discards the imaginary part\n",
      "  funcs_mesh = p_fn_mesh.astype(np.float64), q_fn_mesh\n",
      "Progress: 100% - State momentum: 1.875 k_OPT -  |🦀🦀🦀🦀🦀🦀🦀🦀🦀🦀🦀🦀🦀🦀🦀| Time: 0:00:20\n",
      "Progress: 100% - State momentum: -0.125 k_OPT -  |🦀🦀🦀🦀🦀🦀🦀🦀🦀🦀🦀🦀🦀🦀| Time: 0:00:20\n",
      "Progress: 100% - State momentum: 0.719 k_OPT -  |🦀🦀🦀🦀🦀🦀🦀🦀🦀🦀🦀🦀🦀🦀🦀| Time: 0:00:22\n",
      "Progress: N/A% - State momentum: 0.000 k_OPT -  |              | ETA:  --:--:--C:\\Users\\oarodriguez\\Academic Projects\\MultiRodsGPE\\multirods_gpe\\bloch.py:325: ComplexWarning: Casting complex values to real discards the imaginary part\n",
      "  funcs_mesh = p_fn_mesh.astype(np.float64), q_fn_mesh\n",
      "Progress:  24% - State momentum: -0.750 k_OPT -  |           🦀🦀🦀| ETA:  0:00:26"
     ]
    }
   ],
   "source": [
    "max_bands = 20\n",
    "number_of_states = 2 ** 5\n",
    "bloch_bands = [1, 2]\n",
    "\n",
    "initial_state = None\n",
    "\n",
    "states_data = []\n",
    "spec = GPESpectrum(system, bloch_bands=bloch_bands,\n",
    "                   states_per_zone=number_of_states, )\n",
    "for bloch_band in bloch_bands:\n",
    "    scan_band = spec.scan_band(bloch_band, GPEBlochStateType.NORMAL)\n",
    "    normal_states = GPEStateSet(scan_band)\n",
    "\n",
    "    scan_band = spec.scan_band(bloch_band, GPEBlochStateType.SADDLE)\n",
    "    saddle_states = GPEStateSet(scan_band)\n",
    "\n",
    "    states_data.append([spec, normal_states, saddle_states])\n",
    "        \n",
    "ideal_spec = IdealSpectrum(system, number_of_states, max_bands=max_bands)"
   ]
  },
  {
   "cell_type": "code",
   "execution_count": null,
   "metadata": {},
   "outputs": [],
   "source": [
    "DASHES = [\n",
    "    (5, 0.01),                  # \"Solid\"\n",
    "    (5, 5/4),                   # Dash small-space\n",
    "    (5, 5/4, 5/4, 5/4),         # Dash-dot\n",
    "    (5/4, 5/4),                 #  Dot\n",
    "    (5, 5/4, 5/2, 5/4, 5/2, 5/4),         # Dash, small-dash\n",
    "    (2, 1, 1, 1),    # Dot-dash\n",
    "    (4, 1, 1, 1),   # Long dash - dot\n",
    "    (4, 1, 2, 1),   # Long dash - dot\n",
    "    (6, 1)\n",
    "]\n"
   ]
  },
  {
   "cell_type": "code",
   "execution_count": 60,
   "metadata": {},
   "outputs": [],
   "source": [
    "def make_plot_label(v0_er, r):\n",
    "    \"\"\"\"\"\"\n",
    "    v0_fmt = '$V_0 = E_R$' if v0_er == 1 else r'$V_0 = {:.5G} E_R$' \n",
    "    r_fmt =  '$b = a$' if r == 1 else r'$b = {:.5G}a$'\n",
    "    lbl_fmt = v0_fmt + '\\n' + r_fmt\n",
    "    \n",
    "    return lbl_fmt.format(v0_er, r)"
   ]
  },
  {
   "cell_type": "code",
   "execution_count": 1,
   "metadata": {},
   "outputs": [
    {
     "ename": "NameError",
     "evalue": "name 'set_base_style' is not defined",
     "output_type": "error",
     "traceback": [
      "\u001b[1;31m---------------------------------------------------------------------------\u001b[0m",
      "\u001b[1;31mNameError\u001b[0m                                 Traceback (most recent call last)",
      "\u001b[1;32m<ipython-input-1-7b8fde4882aa>\u001b[0m in \u001b[0;36m<module>\u001b[1;34m()\u001b[0m\n\u001b[0;32m      4\u001b[0m \u001b[1;33m\u001b[0m\u001b[0m\n\u001b[0;32m      5\u001b[0m \u001b[1;31m# %% Figure base style\u001b[0m\u001b[1;33m\u001b[0m\u001b[1;33m\u001b[0m\u001b[0m\n\u001b[1;32m----> 6\u001b[1;33m \u001b[0mset_base_style\u001b[0m\u001b[1;33m(\u001b[0m\u001b[1;33m)\u001b[0m\u001b[1;33m\u001b[0m\u001b[0m\n\u001b[0m\u001b[0;32m      7\u001b[0m \u001b[1;33m\u001b[0m\u001b[0m\n\u001b[0;32m      8\u001b[0m \u001b[0mfigure\u001b[0m\u001b[1;33m(\u001b[0m\u001b[0mfigsize\u001b[0m\u001b[1;33m=\u001b[0m\u001b[1;33m(\u001b[0m\u001b[1;36m2\u001b[0m\u001b[1;33m,\u001b[0m \u001b[1;36m4\u001b[0m\u001b[1;33m)\u001b[0m\u001b[1;33m)\u001b[0m\u001b[1;33m\u001b[0m\u001b[0m\n",
      "\u001b[1;31mNameError\u001b[0m: name 'set_base_style' is not defined"
     ]
    }
   ],
   "source": [
    "# Physical parameters\n",
    "macro_kz = 0\n",
    "bloch_band = 1\n",
    "\n",
    "# %% Figure base style\n",
    "set_base_style()\n",
    "\n",
    "figure(figsize=(2, 4))\n",
    "\n",
    "ax = gca()\n",
    "\n",
    "rcParams['legend.fontsize'] = 8\n",
    "\n",
    "dashes = cycle(DASHES)\n",
    "\n",
    "# Switches\n",
    "subplot_left = True\n",
    "if subplot_left:\n",
    "    add_legend = False\n",
    "else:\n",
    "    add_legend = True\n",
    "\n",
    " # Some dimensions\n",
    "y_min = 0\n",
    "y_max = 5\n",
    "\n",
    "plt_lb = make_plot_label(v0 / ER, r)\n",
    "ax.text(-0.45, 0.88 * y_max, plt_lb, fontsize=11)\n",
    "\n",
    "skip_ideal = False\n",
    "for ctr, data in enumerate(density_data):\n",
    "    \n",
    "    system, state = data\n",
    "    r = float(system.lattice_ratio)\n",
    "    gn0 = system.interaction_strength\n",
    "    \n",
    "    dash = next(dashes)\n",
    "    if system.interaction_strength:\n",
    "        phi_k = absolute(state.wave_fn) ** 2\n",
    "        plb = r'${:5G}$'.format(gn0 / v0)\n",
    "    else:\n",
    "        phi_k = absolute(state.wave_fn) ** 2\n",
    "        plb = None\n",
    "\n",
    "    z = system.domain_mesh\n",
    "    vz_unit = system.potential(z) / v0\n",
    "    za = 1 / (1 + r) / 2\n",
    "\n",
    "    line, = ax.plot(z - za, phi_k, label=plb, dashes=dash)\n",
    "    ax.plot(z - 1 -  za, phi_k, color=line.get_color(), dashes=dash, lw=1)\n",
    "    \n",
    "ax.fill_between(z - za, vz_unit * y_max, alpha=0.25, \n",
    "                  color='#cccccc')\n",
    "ax.fill_between(z - 1 - za, vz_unit * y_max, alpha=0.25,\n",
    "            color='#cccccc')\n",
    "\n",
    "add_legend = True\n",
    "if add_legend:\n",
    "    legend_ = ax.legend(bbox_to_anchor=(0.59, 0.665), loc='best')\n",
    "    leg_title = legend_.get_title()\n",
    "    legend_.set_title(r'$gn_0 / V_0$', prop=dict(size=9))\n",
    "    leg_frame = legend_.get_frame()\n",
    "    setp(leg_frame, fc='#FFFFFF', alpha=0.5)\n",
    "    \n",
    "\n",
    "y_loc = MultipleLocator(1)\n",
    "y_fmt = FormatStrFormatter('%.3G')\n",
    "y_min_loc = MultipleLocator(0.5)\n",
    "\n",
    "ax.yaxis.set_major_locator(y_loc)\n",
    "ax.yaxis.set_major_formatter(y_fmt)\n",
    "ax.yaxis.set_minor_locator(y_min_loc)\n",
    "\n",
    "ax.set_xlabel(r'$z/(a + b)$')\n",
    "ax.set_ylabel(r'$n_1(z)$ (normalized)')\n",
    "\n",
    "ax.set_xlim(-0.5, 0.5)\n",
    "ax.set_ylim(y_min, y_max)\n",
    "\n",
    "# Some manual labelling\n",
    "ax.set_xticks([-0.5, 0, .5])\n",
    "ax.set_xticklabels([-.5, '0', .5])\n",
    "\n",
    "fn_fmt = r'n1z-gs_v0-{:.5G}_r-{:.5G}'\n",
    "file_name = fn_fmt.format(v0 / ER, r)\n",
    "\n",
    "full_path = os.path.join(proj_dir,\n",
    "                         'reports', 'figures',\n",
    "                         '{:s}.pdf'.format(file_name.replace('.', '-dot-')))\n",
    "\n",
    "savefig(full_path)\n",
    "\n",
    "print(full_path)"
   ]
  },
  {
   "cell_type": "code",
   "execution_count": null,
   "metadata": {},
   "outputs": [],
   "source": []
  },
  {
   "cell_type": "markdown",
   "metadata": {},
   "source": [
    "### Ideal spectrum"
   ]
  },
  {
   "cell_type": "code",
   "execution_count": 9,
   "metadata": {},
   "outputs": [
    {
     "name": "stderr",
     "output_type": "stream",
     "text": [
      "C:\\Users\\oarodriguez\\Academic Projects\\MultiRodsGPE\\multirods_gpe\\bloch.py:325: ComplexWarning: Casting complex values to real discards the imaginary part\n",
      "  funcs_mesh = p_fn_mesh.astype(np.float64), q_fn_mesh\n"
     ]
    }
   ],
   "source": [
    "states_per_zone = 2 ** 5\n",
    "ideal_spec = IdealSpectrum(system, states_per_zone)"
   ]
  },
  {
   "cell_type": "code",
   "execution_count": 29,
   "metadata": {},
   "outputs": [
    {
     "data": {
      "text/plain": [
       "(0, 11.739060418940863)"
      ]
     },
     "execution_count": 29,
     "metadata": {},
     "output_type": "execute_result"
    },
    {
     "data": {
      "image/png": "[encoded data removed]",
      "text/plain": [
       "<matplotlib.figure.Figure at 0x1a8c8b18978>"
      ]
     },
     "metadata": {},
     "output_type": "display_data"
    }
   ],
   "source": [
    "set_base_style()\n",
    "\n",
    "figure(figsize=(2, 4))\n",
    "\n",
    "lc_ = None\n",
    "for bloch_band in [1, 2, 3]:\n",
    "    ideal_band = ideal_spec.get(bloch_band)   \n",
    "    line, = plot(ideal_band.momentum / pi, \n",
    "                 ideal_band.energy / ER, \n",
    "                 color=lc_)\n",
    "    lc_ = line.get_color()\n",
    "    \n",
    "xlabel(r'$k / k_{\\mathrm{opt}}$')\n",
    "ylabel(r'$\\varepsilon_k / E_{\\mathrm{R}}$')\n",
    "\n",
    "xlim(-1, 1)\n",
    "ylim(ymin=0)"
   ]
  },
  {
   "cell_type": "code",
   "execution_count": null,
   "metadata": {},
   "outputs": [],
   "source": []
  }
 ],
 "metadata": {
  "kernelspec": {
   "display_name": "Python 3.6 [python36test]",
   "language": "python",
   "name": "python36test"
  },
  "language_info": {
   "codemirror_mode": {
    "name": "ipython",
    "version": 3
   },
   "file_extension": ".py",
   "mimetype": "text/x-python",
   "name": "python",
   "nbconvert_exporter": "python",
   "pygments_lexer": "ipython3",
   "version": "3.6.3"
  }
 },
 "nbformat": 4,
 "nbformat_minor": 2
}

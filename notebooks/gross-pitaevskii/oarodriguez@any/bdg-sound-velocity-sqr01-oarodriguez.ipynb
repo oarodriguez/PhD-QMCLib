{
 "cells": [
  {
   "cell_type": "markdown",
   "metadata": {},
   "source": [
    "# Sound velocity BdG equations"
   ]
  },
  {
   "cell_type": "code",
   "execution_count": 1,
   "metadata": {},
   "outputs": [
    {
     "name": "stdout",
     "output_type": "stream",
     "text": [
      "Populating the interactive namespace from numpy and matplotlib\n"
     ]
    }
   ],
   "source": [
    "%pylab inline"
   ]
  },
  {
   "cell_type": "code",
   "execution_count": 2,
   "metadata": {},
   "outputs": [],
   "source": [
    "from multirods_gpe.style import set_base_style\n",
    "from multirods_gpe import MultiRods\n",
    "from multirods_gpe.bloch import ideal_eigen_states, GPEState, GPEStateSet\n",
    "from multirods_gpe.fdiff import EigSolverType\n",
    "from multirods_gpe.spectrum import IdealSpectrum, GPESpectrum, GPEBlochStateType, BdGSpectrum\n",
    "from multirods_gpe.model import ER"
   ]
  },
  {
   "cell_type": "code",
   "execution_count": 3,
   "metadata": {},
   "outputs": [],
   "source": [
    "from itertools import cycle, islice\n",
    "from matplotlib.ticker import MultipleLocator, FormatStrFormatter"
   ]
  },
  {
   "cell_type": "markdown",
   "metadata": {},
   "source": [
    "## EDIT: Paths and non-standard imports >>>"
   ]
  },
  {
   "cell_type": "code",
   "execution_count": 4,
   "metadata": {},
   "outputs": [],
   "source": [
    "import os, sys\n",
    "proj_dir = os.path.abspath(os.path.join(os.getcwd(), os.pardir, os.pardir))\n",
    "sys.path.insert(0, proj_dir)"
   ]
  },
  {
   "cell_type": "markdown",
   "metadata": {},
   "source": [
    "### <<< End of paths and non-standard import\n",
    "----"
   ]
  },
  {
   "cell_type": "markdown",
   "metadata": {},
   "source": [
    "## Square lattice, $b = a$"
   ]
  },
  {
   "cell_type": "code",
   "execution_count": 4,
   "metadata": {},
   "outputs": [
    {
     "data": {
      "text/plain": [
       "['C:\\\\Users\\\\oarodriguez\\\\My Research\\\\Projects\\\\PhD Thesis\\\\notebooks\\\\gross-pitaevskii\\\\src',\n",
       " '',\n",
       " 'C:\\\\Users\\\\oarodriguez\\\\conda-envs\\\\python36test\\\\python36.zip',\n",
       " 'C:\\\\Users\\\\oarodriguez\\\\conda-envs\\\\python36test\\\\DLLs',\n",
       " 'C:\\\\Users\\\\oarodriguez\\\\conda-envs\\\\python36test\\\\lib',\n",
       " 'C:\\\\Users\\\\oarodriguez\\\\conda-envs\\\\python36test',\n",
       " 'C:\\\\Users\\\\oarodriguez\\\\conda-envs\\\\python36test\\\\lib\\\\site-packages',\n",
       " 'C:\\\\Users\\\\oarodriguez\\\\My Research\\\\Code\\\\OneQMC',\n",
       " 'C:\\\\Users\\\\oarodriguez\\\\My Research\\\\Code\\\\OneGPE',\n",
       " 'C:\\\\Users\\\\oarodriguez\\\\My Research\\\\Code\\\\MultiRodsGPE',\n",
       " 'C:\\\\Users\\\\oarodriguez\\\\conda-envs\\\\python36test\\\\lib\\\\site-packages\\\\IPython\\\\extensions',\n",
       " 'C:\\\\Users\\\\oarodriguez\\\\.ipython']"
      ]
     },
     "execution_count": 4,
     "metadata": {},
     "output_type": "execute_result"
    }
   ],
   "source": [
    "import sys\n",
    "sys.path"
   ]
  },
  {
   "cell_type": "code",
   "execution_count": 15,
   "metadata": {},
   "outputs": [],
   "source": [
    "r, gn0 = 1, 0.25 * ER\n",
    "v0_range = linspace(1, 20, 20) * ER\n",
    "\n",
    "systems = []\n",
    "\n",
    "for v0 in v0_range:\n",
    "    system = MultiRods(v0, r, gn0)\n",
    "    system.context.partition_order = 8\n",
    "    system.context.fd_eig_solve_mode = EigSolverType.SPARSE\n",
    "    system.context.nd_newton_abs_tol = 1e-2\n",
    "    systems.append(system)"
   ]
  },
  {
   "cell_type": "code",
   "execution_count": 16,
   "metadata": {},
   "outputs": [
    {
     "data": {
      "text/plain": [
       "array([  1.,   2.,   3.,   4.,   5.,   6.,   7.,   8.,   9.,  10.,  11.,\n",
       "        12.,  13.,  14.,  15.,  16.,  17.,  18.,  19.,  20.])"
      ]
     },
     "execution_count": 16,
     "metadata": {},
     "output_type": "execute_result"
    }
   ],
   "source": [
    "v0_range / ER"
   ]
  },
  {
   "cell_type": "markdown",
   "metadata": {},
   "source": [
    "### Calculating energy."
   ]
  },
  {
   "cell_type": "code",
   "execution_count": 17,
   "metadata": {},
   "outputs": [],
   "source": [
    "from scipy.integrate import trapz"
   ]
  },
  {
   "cell_type": "code",
   "execution_count": 24,
   "metadata": {},
   "outputs": [],
   "source": [
    "max_bands = 20\n",
    "number_of_states = 2 ** 5\n",
    "bloch_bands = [1, 2, 3]\n",
    "\n",
    "bloch_band = 1\n",
    "macro_kz, exc_qz = 0, 0\n",
    "\n",
    "#     r = float(system.lattice_ratio)\n",
    "all_enerygy_data = []"
   ]
  },
  {
   "cell_type": "code",
   "execution_count": 18,
   "metadata": {},
   "outputs": [
    {
     "name": "stderr",
     "output_type": "stream",
     "text": [
      "C:\\Users\\oarodriguez\\Academic Projects\\MultiRodsGPE\\multirods_gpe\\bloch.py:325: ComplexWarning: Casting complex values to real discards the imaginary part\n",
      "  funcs_mesh = p_fn_mesh.astype(np.float64), q_fn_mesh\n",
      "C:\\Users\\oarodriguez\\Academic Projects\\MultiRodsGPE\\multirods_gpe\\bloch.py:618: ComplexWarning: Casting complex values to real discards the imaginary part\n",
      "  eig_mode._energy = float(energy)\n",
      "C:\\Users\\oarodriguez\\Academic Projects\\MultiRodsGPE\\multirods_gpe\\bloch.py:853: ComplexWarning: Casting complex values to real discards the imaginary part\n",
      "  states_data = np.array(states_data, dtype=data_dtype)\n"
     ]
    }
   ],
   "source": [
    "energy_data = []\n",
    "for system in systems:\n",
    "    gn0 = system.interaction_strength\n",
    "\n",
    "    ideal_states = ideal_eigen_states(system, momentum=macro_kz,\n",
    "                                      max_eigen_states=bloch_band + 5)\n",
    "\n",
    "    ideal_state = ideal_states.get(bloch_band)\n",
    "    gpe_state = GPEBlochState.from_state(ideal_state, momentum=macro_kz)\n",
    "\n",
    "    states_per_zone = 2 ** 5\n",
    "    max_bands = 20\n",
    "    reciprocal_origin = 0\n",
    "    spec = IdealSpectrum(system, states_per_zone,\n",
    "                         max_bands, reciprocal_origin)\n",
    "\n",
    "    bdg_spec = BdGSpectrum(gpe_state, states_per_zone,\n",
    "                           max_bands=bloch_band + 5)\n",
    "    \n",
    "    energy_data.append([system, spec, bdg_spec, gpe_state])\n",
    "    \n",
    "all_enerygy_data.append(energy_data)"
   ]
  },
  {
   "cell_type": "code",
   "execution_count": 27,
   "metadata": {},
   "outputs": [],
   "source": [
    "r, gn0 = 1, 0.5 * ER\n",
    "v0_range = linspace(1, 20, 20) * ER\n",
    "\n",
    "systems = []\n",
    "\n",
    "for v0 in v0_range:\n",
    "    system = MultiRods(v0, r, gn0)\n",
    "    system.context.partition_order = 8\n",
    "    system.context.fd_eig_solve_mode = EigSolverType.SPARSE\n",
    "    system.context.nd_newton_abs_tol = 1e-2\n",
    "    systems.append(system) "
   ]
  },
  {
   "cell_type": "code",
   "execution_count": 28,
   "metadata": {},
   "outputs": [
    {
     "name": "stderr",
     "output_type": "stream",
     "text": [
      "C:\\Users\\oarodriguez\\Academic Projects\\MultiRodsGPE\\multirods_gpe\\bloch.py:325: ComplexWarning: Casting complex values to real discards the imaginary part\n",
      "  funcs_mesh = p_fn_mesh.astype(np.float64), q_fn_mesh\n",
      "C:\\Users\\oarodriguez\\Academic Projects\\MultiRodsGPE\\multirods_gpe\\bloch.py:618: ComplexWarning: Casting complex values to real discards the imaginary part\n",
      "  eig_mode._energy = float(energy)\n",
      "C:\\Users\\oarodriguez\\Academic Projects\\MultiRodsGPE\\multirods_gpe\\bloch.py:853: ComplexWarning: Casting complex values to real discards the imaginary part\n",
      "  states_data = np.array(states_data, dtype=data_dtype)\n"
     ]
    }
   ],
   "source": [
    "energy_data_05 = []\n",
    "bloch_band = 1\n",
    "for system in systems:\n",
    "    gn0 = system.interaction_strength\n",
    "\n",
    "    ideal_states = ideal_eigen_states(system, momentum=macro_kz,\n",
    "                                      max_eigen_states=bloch_band + 5)\n",
    "\n",
    "    ideal_state = ideal_states.get(bloch_band)\n",
    "    gpe_state = GPEBlochState.from_state(ideal_state, momentum=macro_kz)\n",
    "\n",
    "    states_per_zone = 2 ** 5\n",
    "    max_bands = 20\n",
    "    reciprocal_origin = 0\n",
    "    spec = IdealSpectrum(system, states_per_zone,\n",
    "                         max_bands, reciprocal_origin)\n",
    "\n",
    "    bdg_spec = BdGSpectrum(gpe_state, states_per_zone,\n",
    "                           max_bands=bloch_band + 5)\n",
    "    \n",
    "    energy_data_05.append([system, spec, bdg_spec, gpe_state])\n",
    "    \n",
    "all_enerygy_data.append(energy_data_05)"
   ]
  },
  {
   "cell_type": "markdown",
   "metadata": {},
   "source": [
    "### Third system"
   ]
  },
  {
   "cell_type": "code",
   "execution_count": 37,
   "metadata": {},
   "outputs": [],
   "source": [
    "r, gn0 = 1, 1 * ER\n",
    "v0_range = linspace(1, 20, 20) * ER\n",
    "\n",
    "systems = []\n",
    "for v0 in v0_range:\n",
    "    system = MultiRods(v0, r, gn0)\n",
    "    system.context.partition_order = 8\n",
    "    system.context.fd_eig_solve_mode = EigSolverType.SPARSE\n",
    "    system.context.nd_newton_abs_tol = 1e-2\n",
    "    systems.append(system) "
   ]
  },
  {
   "cell_type": "code",
   "execution_count": 38,
   "metadata": {},
   "outputs": [
    {
     "name": "stderr",
     "output_type": "stream",
     "text": [
      "C:\\Users\\oarodriguez\\Academic Projects\\MultiRodsGPE\\multirods_gpe\\bloch.py:325: ComplexWarning: Casting complex values to real discards the imaginary part\n",
      "  funcs_mesh = p_fn_mesh.astype(np.float64), q_fn_mesh\n",
      "C:\\Users\\oarodriguez\\Academic Projects\\MultiRodsGPE\\multirods_gpe\\bloch.py:618: ComplexWarning: Casting complex values to real discards the imaginary part\n",
      "  eig_mode._energy = float(energy)\n",
      "C:\\Users\\oarodriguez\\Academic Projects\\MultiRodsGPE\\multirods_gpe\\bloch.py:853: ComplexWarning: Casting complex values to real discards the imaginary part\n",
      "  states_data = np.array(states_data, dtype=data_dtype)\n"
     ]
    }
   ],
   "source": [
    "energy_data_10 = []\n",
    "bloch_band = 1\n",
    "for system in systems:\n",
    "    gn0 = system.interaction_strength\n",
    "\n",
    "    ideal_states = ideal_eigen_states(system, momentum=macro_kz,\n",
    "                                      max_eigen_states=bloch_band + 5)\n",
    "\n",
    "    ideal_state = ideal_states.get(bloch_band)\n",
    "    gpe_state = GPEBlochState.from_state(ideal_state, momentum=macro_kz)\n",
    "\n",
    "    states_per_zone = 2 ** 5\n",
    "    max_bands = 20\n",
    "    reciprocal_origin = 0\n",
    "    spec = IdealSpectrum(system, states_per_zone,\n",
    "                         max_bands, reciprocal_origin)\n",
    "\n",
    "    bdg_spec = BdGSpectrum(gpe_state, states_per_zone,\n",
    "                           max_bands=bloch_band + 5)\n",
    "    \n",
    "    energy_data_10.append([system, spec, bdg_spec, gpe_state])\n",
    "    \n",
    "all_enerygy_data.append(energy_data_10)"
   ]
  },
  {
   "cell_type": "code",
   "execution_count": 39,
   "metadata": {},
   "outputs": [
    {
     "data": {
      "text/plain": [
       "3"
      ]
     },
     "execution_count": 39,
     "metadata": {},
     "output_type": "execute_result"
    }
   ],
   "source": [
    "len(all_enerygy_data)"
   ]
  },
  {
   "cell_type": "code",
   "execution_count": null,
   "metadata": {},
   "outputs": [],
   "source": []
  },
  {
   "cell_type": "code",
   "execution_count": 19,
   "metadata": {},
   "outputs": [],
   "source": [
    "DASHES = [\n",
    "    (5, 0.01),                  # \"Solid\"\n",
    "    (5, 5/4),                   # Dash small-space\n",
    "    (5, 5/4, 5/4, 5/4),         # Dash-dot\n",
    "    (5/4, 5/4),                 #  Dot\n",
    "    (5, 5/4, 5/2, 5/4, 5/2, 5/4),         # Dash, small-dash\n",
    "    (2, 1, 1, 1),    # Dot-dash\n",
    "    (4, 1, 1, 1),   # Long dash - dot\n",
    "    (4, 1, 2, 1),   # Long dash - dot\n",
    "    (6, 1)\n",
    "]\n"
   ]
  },
  {
   "cell_type": "code",
   "execution_count": 20,
   "metadata": {},
   "outputs": [],
   "source": [
    "def make_plot_label(v0_er, r, gn0_er):\n",
    "    \"\"\"\"\"\"\n",
    "    v0_lbl = r'$V_0 = E_R$' if v0_er == 1 else r'$V_0 = {:.5G}E_R$'.format(v0_er) \n",
    "    r_lbl =  r'$b = a$' if r == 1 else r'b = ${:.5G}a$'.format(r)\n",
    "    gn0_lbl = r'$gn_0 = E_R$' if gn0_er == 1 else r'$gn_0 = {:.5G}E_R$'.format(gn0_er)\n",
    "    lbl = v0_lbl + '\\n' + r_lbl + '\\n' + gn0_lbl\n",
    "    \n",
    "    return lbl"
   ]
  },
  {
   "cell_type": "markdown",
   "metadata": {},
   "source": [
    "### Find the sound velocity"
   ]
  },
  {
   "cell_type": "code",
   "execution_count": 40,
   "metadata": {},
   "outputs": [],
   "source": [
    "from scipy.interpolate import splrep, splev"
   ]
  },
  {
   "cell_type": "code",
   "execution_count": 66,
   "metadata": {},
   "outputs": [],
   "source": [
    "def find_energy_deriv(edata):\n",
    "\n",
    "    bloch_band = 1\n",
    "    deriv_data = []\n",
    "    \n",
    "    for data in edata:\n",
    "        system, ideal_spec, bdg_spec, ss = data\n",
    "        energy_band = bdg_spec.get(bloch_band)\n",
    "        qz = energy_band.momentum\n",
    "        qzv = qz[qz >= 0]\n",
    "        qzm = qz[qz <= 0]\n",
    "        epv = energy_band.energy[qz >= 0].real\n",
    "        epm = energy_band.energy[qz <= 0].real\n",
    "\n",
    "        epv[0] = 0  # We must force this...\n",
    "        epv_rep = splrep(qzv / pi, epv / ER, k=4)\n",
    "\n",
    "        dv0 = splev(qzv[0] / pi, epv_rep, der=1)\n",
    "        deriv_data.append([qzv[0] / pi, dv0])\n",
    "    return deriv_data"
   ]
  },
  {
   "cell_type": "code",
   "execution_count": 67,
   "metadata": {},
   "outputs": [],
   "source": [
    "gn0_data = [0.25 * ER, 0.5 * ER, 1.0 * ER]"
   ]
  },
  {
   "cell_type": "code",
   "execution_count": 79,
   "metadata": {},
   "outputs": [
    {
     "name": "stdout",
     "output_type": "stream",
     "text": [
      "C:\\Users\\oarodriguez\\Academic Projects\\PhDCode\\reports\\figures\\sound-velocity[bdg]_r-1.pdf\n"
     ]
    },
    {
     "data": {
      "image/png": "[encoded data removed]",
      "text/plain": [
       "<matplotlib.figure.Figure at 0x26e3a3a2668>"
      ]
     },
     "metadata": {},
     "output_type": "display_data"
    }
   ],
   "source": [
    "# Physical parameters\n",
    "macro_kz = 0\n",
    "bloch_band = 1\n",
    "\n",
    "# %% Figure base style\n",
    "set_base_style()\n",
    "\n",
    "figure(figsize=(4, 4))\n",
    "\n",
    "ax = gca()\n",
    "\n",
    "rcParams['axes.linewidth'] = 0.5\n",
    "\n",
    "dashes = cycle(DASHES)\n",
    "\n",
    "# Switches\n",
    "subplot_left = True\n",
    "if subplot_left:\n",
    "    add_legend = False\n",
    "else:\n",
    "    add_legend = True\n",
    "\n",
    " # Some dimensions\n",
    "y_min = 0\n",
    "y_max = 2\n",
    "\n",
    "skip_ideal = False\n",
    "# lc = None\n",
    "system = systems[0]\n",
    "gn0 = system.interaction_strength\n",
    "\n",
    "for data_index in [0, 1, 2]:\n",
    "    dash_ = next(dashes)\n",
    "    edata = edata = all_energy_data[data_index]\n",
    "    deriv_data_0 = find_energy_deriv(edata)\n",
    "    gn0v = gn0_data[data_index]\n",
    "    slope = array(deriv_data_0)[:, 1] / sqrt(gn0v / ER) / sqrt(2)\n",
    "    line, = pyplot.plot(v0_range / ER, slope,\n",
    "                        label=r'${:.5G}$'.format(gn0v/ER),\n",
    "                       dashes=dash_)\n",
    "#     lc = line.get_color()\n",
    "\n",
    "# print(gn0 / ER)\n",
    "# plt_lb = make_plot_label(v0 / ER, r, gn0 / ER)\n",
    "# ax.text(-0.44, 0.80 * y_max, plt_lb, fontsize=11)\n",
    "\n",
    "add_legend = True\n",
    "if add_legend:\n",
    "    legend_ = ax.legend(bbox_to_anchor=(0.59, 0.715), loc='best')\n",
    "    leg_title = legend_.get_title()\n",
    "    legend_.set_title(r'$gn_0 / E_R$', prop=dict(size=9))\n",
    "    leg_frame = legend_.get_frame()\n",
    "    setp(leg_frame, fc='#FFFFFF', alpha=0.5)\n",
    "    \n",
    "\n",
    "y_loc = MultipleLocator(0.1)\n",
    "y_fmt = FormatStrFormatter('%.2G')\n",
    "y_min_loc = MultipleLocator(0.05)\n",
    "\n",
    "ax.yaxis.set_major_locator(y_loc)\n",
    "ax.yaxis.set_major_formatter(y_fmt)\n",
    "ax.yaxis.set_minor_locator(y_min_loc)\n",
    "\n",
    "x_loc = MultipleLocator(5)\n",
    "x_fmt = FormatStrFormatter('%.2G')\n",
    "x_min_loc = MultipleLocator(2.5)\n",
    "\n",
    "ax.xaxis.set_major_locator(x_loc)\n",
    "ax.xaxis.set_major_formatter(x_fmt)\n",
    "ax.xaxis.set_minor_locator(x_min_loc)\n",
    "\n",
    "\n",
    "ax.set_xlabel(r'$V_0 / E_R$')\n",
    "ax.set_ylabel(r'$c_s / c_{s0}$')\n",
    "\n",
    "ax.set_xlim(0, 20)\n",
    "# ax.set_ylim(y_min, y_max)\n",
    "\n",
    "# Some manual labelling\n",
    "# ax.set_xticks([-0.5, 0, .5])\n",
    "# ax.set_xticklabels([-.5, '0', .5])\n",
    "\n",
    "fn_fmt = r'sound-velocity[bdg]_r-{:.5G}'\n",
    "file_name = fn_fmt.format(r)\n",
    "\n",
    "full_path = os.path.join(proj_dir,\n",
    "                         'reports', 'figures',\n",
    "                         '{:s}.pdf'.format(file_name.replace('.', '-dot-')))\n",
    "\n",
    "savefig(full_path)\n",
    "\n",
    "print(full_path)"
   ]
  },
  {
   "cell_type": "code",
   "execution_count": null,
   "metadata": {},
   "outputs": [],
   "source": [
    "bdg_band = bdg_spec.get(bloch_band=1)\n",
    "\n",
    "plot(bdg_band.momentum, abs(bdg_band.energy.real / bdg_band.momentum))"
   ]
  },
  {
   "cell_type": "code",
   "execution_count": null,
   "metadata": {},
   "outputs": [],
   "source": []
  }
 ],
 "metadata": {
  "kernelspec": {
   "display_name": "Python 3.6 [python36test]",
   "language": "python",
   "name": "python36test"
  },
  "language_info": {
   "codemirror_mode": {
    "name": "ipython",
    "version": 3
   },
   "file_extension": ".py",
   "mimetype": "text/x-python",
   "name": "python",
   "nbconvert_exporter": "python",
   "pygments_lexer": "ipython3",
   "version": "3.6.4"
  }
 },
 "nbformat": 4,
 "nbformat_minor": 2
}

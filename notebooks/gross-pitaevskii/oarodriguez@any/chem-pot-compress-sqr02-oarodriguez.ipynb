{
 "cells": [
  {
   "cell_type": "markdown",
   "metadata": {},
   "source": [
    "# Chemical Potential and Compressibility"
   ]
  },
  {
   "cell_type": "code",
   "execution_count": 1,
   "metadata": {},
   "outputs": [
    {
     "name": "stdout",
     "output_type": "stream",
     "text": [
      "Populating the interactive namespace from numpy and matplotlib\n"
     ]
    }
   ],
   "source": [
    "%pylab inline"
   ]
  },
  {
   "cell_type": "code",
   "execution_count": 2,
   "metadata": {},
   "outputs": [],
   "source": [
    "from multirods_gpe.style import set_base_style\n",
    "from multirods_gpe import MultiRods\n",
    "from multirods_gpe.bloch import ideal_eigen_states, IdealState, GPEState, GPEStateSet\n",
    "from multirods_gpe.spectrum import IdealSpectrum, GPESpectrum, GPEBlochStateType\n",
    "from multirods_gpe.model import ER"
   ]
  },
  {
   "cell_type": "code",
   "execution_count": 3,
   "metadata": {},
   "outputs": [],
   "source": [
    "from itertools import cycle, islice\n",
    "from matplotlib.ticker import MultipleLocator, FormatStrFormatter"
   ]
  },
  {
   "cell_type": "markdown",
   "metadata": {},
   "source": [
    "## EDIT: Paths and non-standard imports >>>"
   ]
  },
  {
   "cell_type": "code",
   "execution_count": 4,
   "metadata": {},
   "outputs": [],
   "source": [
    "import os, sys\n",
    "proj_dir = os.path.abspath(os.path.join(os.getcwd(), os.pardir, os.pardir))\n",
    "sys.path.insert(0, proj_dir)"
   ]
  },
  {
   "cell_type": "markdown",
   "metadata": {},
   "source": [
    "### <<< End of paths and non-standard import\n",
    "----"
   ]
  },
  {
   "cell_type": "markdown",
   "metadata": {},
   "source": [
    "## Square lattice, $b = a$"
   ]
  },
  {
   "cell_type": "code",
   "execution_count": 5,
   "metadata": {},
   "outputs": [],
   "source": [
    "def walk_interaction(v0, r, gn0_array, macro_kz):\n",
    "    \"\"\"\"\"\"\n",
    "    states = []\n",
    "            \n",
    "    current = None\n",
    "    for gn0 in sort(gn0_array):\n",
    "        \n",
    "        system = MultiRods(v0, r, gn0)\n",
    "        system.context.partition_order = 8\n",
    "        \n",
    "        if current is None:\n",
    "            ideal_states = ideal_eigen_states(system, momentum=macro_kz, max_eigen_states=10)\n",
    "            ideal_state = ideal_states.get(bloch_band=1)\n",
    "            current = ideal_state\n",
    "\n",
    "        if gn0 != 0:\n",
    "            gpe_state = GPEState.from_state(current, momentum=macro_kz, system=system)\n",
    "            current = gpe_state\n",
    "            \n",
    "        states.append(current)\n",
    "    \n",
    "    return states"
   ]
  },
  {
   "cell_type": "code",
   "execution_count": 11,
   "metadata": {},
   "outputs": [],
   "source": [
    "r = 1\n",
    "\n",
    "# v0_range = array([0.01 * ER, 5, 10, 15, 25]) * ER\n",
    "v0_range = linspace(0.01, 25, 26) * ER\n",
    "# The default range for interactions\n",
    "gn0_array = linspace(0, 25, 26) * ER"
   ]
  },
  {
   "cell_type": "code",
   "execution_count": 12,
   "metadata": {},
   "outputs": [],
   "source": [
    "v0 = v0_range[1]\n",
    "macro_kz = 0\n",
    "\n",
    "# gpe_states = walk_interaction(v0, r, gn0_array, macro_kz)"
   ]
  },
  {
   "cell_type": "markdown",
   "metadata": {},
   "source": [
    "### Calculating compressibility."
   ]
  },
  {
   "cell_type": "code",
   "execution_count": 13,
   "metadata": {},
   "outputs": [],
   "source": [
    "from scipy.integrate import trapz"
   ]
  },
  {
   "cell_type": "code",
   "execution_count": 14,
   "metadata": {},
   "outputs": [],
   "source": [
    "from scipy.interpolate import splrep, splev"
   ]
  },
  {
   "cell_type": "code",
   "execution_count": 16,
   "metadata": {},
   "outputs": [
    {
     "name": "stderr",
     "output_type": "stream",
     "text": [
      "C:\\Users\\oarodriguez\\Academic Projects\\MultiRodsGPE\\multirods_gpe\\bloch.py:325: ComplexWarning: Casting complex values to real discards the imaginary part\n",
      "  funcs_mesh = p_fn_mesh.astype(np.float64), q_fn_mesh\n"
     ]
    },
    {
     "name": "stdout",
     "output_type": "stream",
     "text": [
      "Completed for v0 / ER=0.01\n",
      "Completed for v0 / ER=1.0095999999999998\n",
      "Completed for v0 / ER=2.0092\n",
      "Completed for v0 / ER=3.0087999999999995\n",
      "Completed for v0 / ER=4.0084\n",
      "Completed for v0 / ER=5.007999999999999\n",
      "Completed for v0 / ER=6.007599999999999\n",
      "Completed for v0 / ER=7.007199999999999\n",
      "Completed for v0 / ER=8.0068\n",
      "Completed for v0 / ER=9.0064\n",
      "Completed for v0 / ER=10.005999999999998\n",
      "Completed for v0 / ER=11.0056\n",
      "Completed for v0 / ER=12.005199999999999\n",
      "Completed for v0 / ER=13.0048\n",
      "Completed for v0 / ER=14.004399999999999\n",
      "Completed for v0 / ER=15.004\n",
      "Completed for v0 / ER=16.0036\n",
      "Completed for v0 / ER=17.0032\n",
      "Completed for v0 / ER=18.0028\n",
      "Completed for v0 / ER=19.0024\n",
      "Completed for v0 / ER=20.002\n",
      "Completed for v0 / ER=21.0016\n",
      "Completed for v0 / ER=22.0012\n",
      "Completed for v0 / ER=23.0008\n",
      "Completed for v0 / ER=24.0004\n",
      "Completed for v0 / ER=25.0\n"
     ]
    }
   ],
   "source": [
    "full_states_data = []\n",
    "for v0 in v0_range:\n",
    "    gpe_states = walk_interaction(v0, r, gn0_array, macro_kz)\n",
    "    data_states = []\n",
    "    \n",
    "    for state in gpe_states:\n",
    "        gn0 = state.system.interaction_strength\n",
    "        e_kz = state.energy\n",
    "        if isinstance(state, IdealState):\n",
    "            mu_kz = e_kz\n",
    "        else:\n",
    "            mu_kz = state.chemical_potential\n",
    "\n",
    "        data_states.append([v0, gn0, mu_kz, e_kz])\n",
    "\n",
    "    full_states_data.append(data_states)\n",
    "#     data_states = array(data_states)\n",
    "    print('Completed for v0 / ER={}'.format(v0 / ER))\n",
    "\n",
    "full_states_data = array(full_states_data)"
   ]
  },
  {
   "cell_type": "code",
   "execution_count": 17,
   "metadata": {},
   "outputs": [],
   "source": [
    "full_states_data.tofile('full_data_states-02')"
   ]
  },
  {
   "cell_type": "code",
   "execution_count": 18,
   "metadata": {},
   "outputs": [],
   "source": [
    "DASHES = [\n",
    "    (5, 0.01),                  # \"Solid\"\n",
    "    (5, 5/4),                   # Dash small-space\n",
    "    (5, 5/4, 5/4, 5/4),         # Dash-dot\n",
    "    (5/4, 5/4),                 #  Dot\n",
    "    (5, 5/4, 5/2, 5/4, 5/2, 5/4),         # Dash, small-dash\n",
    "    (2, 1, 1, 1),    # Dot-dash\n",
    "    (4, 1, 1, 1),   # Long dash - dot\n",
    "    (4, 1, 2, 1),   # Long dash - dot\n",
    "    (6, 1)\n",
    "]\n"
   ]
  },
  {
   "cell_type": "markdown",
   "metadata": {},
   "source": [
    "### Plot chemical potential as $gn_0 / E_R$"
   ]
  },
  {
   "cell_type": "code",
   "execution_count": 19,
   "metadata": {},
   "outputs": [],
   "source": [
    "def make_plot_label(v0_er, r, gn0_er):\n",
    "    \"\"\"\"\"\"\n",
    "    v0_lbl = r'$V_0 = E_R$' if v0_er == 1 else r'$V_0 = {:.5G}E_R$'.format(v0_er) \n",
    "    r_lbl =  r'$b = a$' if r == 1 else r'b = ${:.5G}a$'.format(r)\n",
    "    gn0_lbl = r'$gn_0 = E_R$' if gn0_er == 1 else r'$gn_0 = {:.5G}E_R$'.format(gn0_er)\n",
    "    lbl = v0_lbl + '\\n' + r_lbl + '\\n' + gn0_lbl\n",
    "    \n",
    "    return lbl"
   ]
  },
  {
   "cell_type": "code",
   "execution_count": 20,
   "metadata": {},
   "outputs": [
    {
     "name": "stdout",
     "output_type": "stream",
     "text": [
      "C:\\Users\\oarodriguez\\Academic Projects\\PhDCode\\reports\\figures\\mu-kz_kappa_as-gn0_r-1.pdf\n"
     ]
    },
    {
     "data": {
      "image/png": "[encoded data removed]",
      "text/plain": [
       "<Figure size 300x600 with 2 Axes>"
      ]
     },
     "metadata": {},
     "output_type": "display_data"
    }
   ],
   "source": [
    "# Physical parameters\n",
    "macro_kz = 0\n",
    "bloch_band = 1\n",
    "\n",
    "# %% Figure base style\n",
    "set_base_style()\n",
    "\n",
    "fig = figure(figsize=(2, 4))\n",
    "gs = GridSpec(2, 1, figure=fig, )\n",
    "\n",
    "rcParams['legend.fontsize'] = 8\n",
    "\n",
    "# Switches\n",
    "subplot_left = True\n",
    "if subplot_left:\n",
    "    add_legend = False\n",
    "else:\n",
    "    add_legend = True\n",
    "\n",
    "# Upper subplot    \n",
    "ax = subplot(gs[0, 0])\n",
    "\n",
    "dashes = cycle(DASHES)\n",
    "\n",
    " # Some dimensions\n",
    "y_min = 0\n",
    "y_max = 40\n",
    "\n",
    "skip_ideal = False\n",
    "lc = None\n",
    "gn0 = None\n",
    "\n",
    "lc_ideal = None\n",
    "for ctr, data_states in enumerate(full_states_data.transpose(1, 0, 2)):\n",
    "    \n",
    "    gn0_array_ = data_states[:, 0] / ER\n",
    "    mu_kz_array = data_states[:, 1] / ER\n",
    "    e_kz_array = data_states[:, 2] / ER\n",
    "    \n",
    "    mu_kz_rep = splrep(gn0_array_, mu_kz_array, k=4)\n",
    "    kappa_array = splev(gn0_array_, mu_kz_rep, der=1)\n",
    "    \n",
    "    dash = next(dashes)\n",
    "#     if system.interaction_strength:\n",
    "# #         phi_k = absolute(state.wave_fn) ** 2\n",
    "#         plb = r'${:5G}$'.format(gn0 / ER)\n",
    "#     else:\n",
    "# #         phi_k = absolute(state.wave_fn) ** 2\n",
    "#         plb = None\n",
    "\n",
    "    lc_ideal = None\n",
    "    kappa_array *= gn0_array_\n",
    "    if ctr == 0:\n",
    "        line, = ax.plot(gn0_array_, mu_kz_array, color=lc_ideal, lw=1.0)\n",
    "    else:\n",
    "        line, = ax.plot(gn0_array_, mu_kz_array, color=lc_ideal, dashes=dash,\n",
    "                        lw=1.0)\n",
    "\n",
    "# print(gn0 / ER)\n",
    "# plt_lb = make_plot_label(v0 / ER, r, gn0 / ER)\n",
    "# ax.text(-0.44, 0.80 * y_max, plt_lb, fontsize=11)\n",
    "\n",
    "add_legend = False\n",
    "if add_legend:\n",
    "    legend_ = ax.legend(bbox_to_anchor=(0.59, 0.715), loc='best')\n",
    "    leg_title = legend_.get_title()\n",
    "    legend_.set_title(r'$gn_0 / E_R$', prop=dict(size=9))\n",
    "    leg_frame = legend_.get_frame()\n",
    "    setp(leg_frame, fc='#FFFFFF', alpha=0.5)\n",
    "    \n",
    "\n",
    "y_loc = MultipleLocator(10)\n",
    "y_fmt = FormatStrFormatter('%d')\n",
    "y_min_loc = MultipleLocator(2.5)\n",
    "\n",
    "ax.yaxis.set_major_locator(y_loc)\n",
    "ax.yaxis.set_major_formatter(y_fmt)\n",
    "ax.yaxis.set_minor_locator(y_min_loc)\n",
    "\n",
    "x_loc = MultipleLocator(10)\n",
    "x_fmt = FormatStrFormatter('%d')\n",
    "x_min_loc = MultipleLocator(2.5)\n",
    "\n",
    "ax.xaxis.set_major_locator(x_loc)\n",
    "ax.xaxis.set_major_formatter(x_fmt)\n",
    "ax.xaxis.set_minor_locator(x_min_loc)\n",
    "\n",
    "# Remove bottom major ticks\n",
    "ax.tick_params(bottom=False, which='major') \n",
    "\n",
    "ax.set_xlim(0, 25)\n",
    "ax.set_ylim(y_min, y_max)\n",
    "\n",
    "ax.xaxis.set_ticklabels([])\n",
    "\n",
    "ax.set_ylabel(r'$\\mu_0 / E_R$')\n",
    "\n",
    "# ********************* Lower subplot **********************\n",
    "ax = subplot(gs[1, 0])\n",
    "\n",
    "dashes = cycle(DASHES)\n",
    "\n",
    " # Some dimensions\n",
    "y_min = 0\n",
    "y_max = 30\n",
    "\n",
    "skip_ideal = False\n",
    "lc = None\n",
    "gn0 = None\n",
    "\n",
    "lc_ideal = None\n",
    "for ctr, data_states in enumerate(full_states_data.transpose(1, 0, 2)):\n",
    "    \n",
    "    gn0_array_ = data_states[:, 0] / ER\n",
    "    mu_kz_array = data_states[:, 1] / ER\n",
    "    e_kz_array = data_states[:, 2] / ER\n",
    "    \n",
    "    mu_kz_rep = splrep(gn0_array_, mu_kz_array, k=4)\n",
    "    kappa_array = splev(gn0_array_, mu_kz_rep, der=1)\n",
    "    \n",
    "    dash = next(dashes)\n",
    "#     if system.interaction_strength:\n",
    "# #         phi_k = absolute(state.wave_fn) ** 2\n",
    "#         plb = r'${:5G}$'.format(gn0 / ER)\n",
    "#     else:\n",
    "# #         phi_k = absolute(state.wave_fn) ** 2\n",
    "#         plb = None\n",
    "\n",
    "    lc_ideal = None\n",
    "    kappa_array *= gn0_array_\n",
    "    if ctr == 0:\n",
    "        line, = ax.plot(gn0_array_, kappa_array, color=lc_ideal, lw=1.0)\n",
    "    else:\n",
    "        line, = ax.plot(gn0_array_, kappa_array, color=lc_ideal, dashes=dash,\n",
    "                        lw=1.0)\n",
    "        \n",
    "y_loc = MultipleLocator(10)\n",
    "y_fmt = FormatStrFormatter('%d')\n",
    "y_min_loc = MultipleLocator(2.5)\n",
    "\n",
    "ax.yaxis.set_major_locator(y_loc)\n",
    "ax.yaxis.set_major_formatter(y_fmt)\n",
    "ax.yaxis.set_minor_locator(y_min_loc)\n",
    "        \n",
    "ax.xaxis.set_major_locator(x_loc)\n",
    "ax.xaxis.set_major_formatter(x_fmt)\n",
    "ax.xaxis.set_minor_locator(x_min_loc)\n",
    "\n",
    "ax.set_xlabel(r'$g n_0 / E_R$')\n",
    "ax.set_ylabel(r'$\\kappa^{-1} / E_R$')\n",
    "\n",
    "# Remove upper major ticks\n",
    "ax.tick_params(top=False, which='major') \n",
    "\n",
    "ax.set_xlim(0, 25)\n",
    "ax.set_ylim(y_min, y_max)\n",
    "\n",
    "# Some manual labelling\n",
    "# ax.set_xticks([-0.5, 0, .5])\n",
    "# ax.set_xticklabels([-.5, '0', .5])\n",
    "\n",
    "fn_fmt = r'mu-kz_kappa_as-gn0_r-{:.5G}'\n",
    "file_name = fn_fmt.format(r)\n",
    "\n",
    "full_path = os.path.join(proj_dir,\n",
    "                         'reports', 'figures',\n",
    "                         '{:s}.pdf'.format(file_name.replace('.', '-dot-')))\n",
    "\n",
    "# fn_fmt = r'ekz[int]_v0-{:.5G}_r-{:.5G}_gn0-{:.5G}'\n",
    "# file_name = fn_fmt.format(v0 / ER, r, gn0 / ER)\n",
    "\n",
    "# full_path = os.path.join(proj_dir,\n",
    "#                          'reports', 'figures',\n",
    "#                          '{:s}.pdf'.format(file_name.replace('.', '-dot-')))\n",
    "\n",
    "# savefig(full_path)\n",
    "\n",
    "print(full_path)"
   ]
  },
  {
   "cell_type": "markdown",
   "metadata": {},
   "source": [
    "### Plot compressibility as $gn_0 / E_R$"
   ]
  },
  {
   "cell_type": "code",
   "execution_count": 89,
   "metadata": {},
   "outputs": [
    {
     "name": "stdout",
     "output_type": "stream",
     "text": [
      "C:\\Users\\oarodriguez\\Academic Projects\\PhDCode\\reports\\figures\\kappa[int]-as-gn0_r-1.pdf\n"
     ]
    },
    {
     "data": {
      "image/png": "[encoded data removed]",
      "text/plain": [
       "<Figure size 600x600 with 1 Axes>"
      ]
     },
     "metadata": {},
     "output_type": "display_data"
    }
   ],
   "source": [
    "# Physical parameters\n",
    "macro_kz = 0\n",
    "bloch_band = 1\n",
    "\n",
    "# %% Figure base style\n",
    "set_base_style()\n",
    "\n",
    "figure(figsize=(4, 4))\n",
    "\n",
    "ax = gca()\n",
    "\n",
    "rcParams['legend.fontsize'] = 8\n",
    "\n",
    "dashes = cycle(DASHES)\n",
    "\n",
    "# Switches\n",
    "subplot_left = True\n",
    "if subplot_left:\n",
    "    add_legend = False\n",
    "else:\n",
    "    add_legend = True\n",
    "\n",
    " # Some dimensions\n",
    "y_min = 0\n",
    "y_max = 30\n",
    "\n",
    "skip_ideal = False\n",
    "lc = None\n",
    "gn0 = None\n",
    "\n",
    "lc_ideal = None\n",
    "for ctr, data_states in enumerate(full_states_data):\n",
    "    \n",
    "    gn0_array_ = data_states[:, 0] / ER\n",
    "    mu_kz_array = data_states[:, 1] / ER\n",
    "    e_kz_array = data_states[:, 2] / ER\n",
    "    \n",
    "    mu_kz_rep = splrep(gn0_array_, mu_kz_array, k=4)\n",
    "    kappa_array = splev(gn0_array_, mu_kz_rep, der=1)\n",
    "    \n",
    "    dash = next(dashes)\n",
    "#     if system.interaction_strength:\n",
    "# #         phi_k = absolute(state.wave_fn) ** 2\n",
    "#         plb = r'${:5G}$'.format(gn0 / ER)\n",
    "#     else:\n",
    "# #         phi_k = absolute(state.wave_fn) ** 2\n",
    "#         plb = None\n",
    "\n",
    "    lc_ideal = None\n",
    "    kappa_array *= gn0_array_\n",
    "    if ctr == 0:\n",
    "        line, = ax.plot(gn0_array_, kappa_array, color=lc_ideal, lw=1.5)\n",
    "    else:\n",
    "        line, = ax.plot(gn0_array_, kappa_array, color=lc_ideal, dashes=dash,\n",
    "                        lw=1.5)\n",
    "\n",
    "# print(gn0 / ER)\n",
    "# plt_lb = make_plot_label(v0 / ER, r, gn0 / ER)\n",
    "# ax.text(-0.44, 0.80 * y_max, plt_lb, fontsize=11)\n",
    "\n",
    "add_legend = False\n",
    "if add_legend:\n",
    "    legend_ = ax.legend(bbox_to_anchor=(0.59, 0.715), loc='best')\n",
    "    leg_title = legend_.get_title()\n",
    "    legend_.set_title(r'$gn_0 / E_R$', prop=dict(size=9))\n",
    "    leg_frame = legend_.get_frame()\n",
    "    setp(leg_frame, fc='#FFFFFF', alpha=0.5)\n",
    "    \n",
    "\n",
    "y_loc = MultipleLocator(10)\n",
    "y_fmt = FormatStrFormatter('%d')\n",
    "y_min_loc = MultipleLocator(2.5)\n",
    "\n",
    "ax.yaxis.set_major_locator(y_loc)\n",
    "ax.yaxis.set_major_formatter(y_fmt)\n",
    "ax.yaxis.set_minor_locator(y_min_loc)\n",
    "\n",
    "ax.set_xlabel(r'$gn_0 / E_R$')\n",
    "ax.set_ylabel(r'$\\kappa^{-1} / E_R$')\n",
    "\n",
    "ax.set_xlim(0, 25)\n",
    "ax.set_ylim(y_min, y_max)\n",
    "\n",
    "# Some manual labelling\n",
    "# ax.set_xticks([-0.5, 0, .5])\n",
    "# ax.set_xticklabels([-.5, '0', .5])\n",
    "\n",
    "fn_fmt = r'kappa[int]-as-gn0_r-{:.5G}'\n",
    "file_name = fn_fmt.format(r)\n",
    "\n",
    "full_path = os.path.join(proj_dir,\n",
    "                         'reports', 'figures',\n",
    "                         '{:s}.pdf'.format(file_name.replace('.', '-dot-')))\n",
    "\n",
    "# fn_fmt = r'ekz[int]_v0-{:.5G}_r-{:.5G}_gn0-{:.5G}'\n",
    "# file_name = fn_fmt.format(v0 / ER, r, gn0 / ER)\n",
    "\n",
    "# full_path = os.path.join(proj_dir,\n",
    "#                          'reports', 'figures',\n",
    "#                          '{:s}.pdf'.format(file_name.replace('.', '-dot-')))\n",
    "\n",
    "# savefig(full_path)\n",
    "\n",
    "print(full_path)"
   ]
  },
  {
   "cell_type": "code",
   "execution_count": null,
   "metadata": {},
   "outputs": [],
   "source": []
  }
 ],
 "metadata": {
  "kernelspec": {
   "display_name": "Python 3.6 [python36test]",
   "language": "python",
   "name": "python36test"
  },
  "language_info": {
   "codemirror_mode": {
    "name": "ipython",
    "version": 3
   },
   "file_extension": ".py",
   "mimetype": "text/x-python",
   "name": "python",
   "nbconvert_exporter": "python",
   "pygments_lexer": "ipython3",
   "version": "3.6.4"
  }
 },
 "nbformat": 4,
 "nbformat_minor": 2
}
